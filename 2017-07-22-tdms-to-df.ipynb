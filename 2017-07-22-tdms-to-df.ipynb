{
 "cells": [
  {
   "cell_type": "code",
   "execution_count": 1,
   "metadata": {
    "collapsed": true
   },
   "outputs": [],
   "source": [
    "import numpy as np\n",
    "import os\n",
    "import pandas as pd\n",
    "import pickle"
   ]
  },
  {
   "cell_type": "code",
   "execution_count": 2,
   "metadata": {
    "collapsed": true
   },
   "outputs": [],
   "source": [
    "path = os.getcwd()"
   ]
  },
  {
   "cell_type": "code",
   "execution_count": 3,
   "metadata": {
    "collapsed": true
   },
   "outputs": [],
   "source": [
    "tdms_dir = []\n",
    "\n",
    "# loop through all files in cwd\n",
    "\n",
    "for subdir, dirs, files in os.walk(path):\n",
    "    for file in files:\n",
    "        if file[-5:] == '.tdms':\n",
    "#         if '.tdms' in file:    # if tdms file type\n",
    "            tdms_dir.append(os.path.join(subdir, file))"
   ]
  },
  {
   "cell_type": "code",
   "execution_count": 5,
   "metadata": {
    "collapsed": true
   },
   "outputs": [],
   "source": [
    "# save log as pickle\n",
    "\n",
    "with open('data/tdms_dir.p', 'wb') as output:\n",
    "    pickle.dump(tdms_dir, output)"
   ]
  },
  {
   "cell_type": "code",
   "execution_count": 6,
   "metadata": {
    "collapsed": true
   },
   "outputs": [],
   "source": [
    "import importTdms"
   ]
  },
  {
   "cell_type": "code",
   "execution_count": 8,
   "metadata": {},
   "outputs": [
    {
     "name": "stdout",
     "output_type": "stream",
     "text": [
      "Total number of tdms files: 12\n",
      "UNH-01_R131_07_05_2017_03_01_40_Decimate_All.p saved\n",
      "UNH-01_R131_07_06_2017_00_31_43_Decimate_All.p saved\n",
      "UNH-01_R131_07_06_2017_03_31_43_Decimate_All.p saved\n",
      "UNH-01_R131_07_07_2017_03_31_41_Decimate_All.p saved\n",
      "UNH-01_R132_07_07_2017_08_20_12_Decimate_All.p saved\n",
      "UNH-01_R132_07_08_2017_00_50_15_Decimate_All.p saved\n",
      "UNH-01_R132_07_08_2017_09_00_15_Decimate_All.p saved\n",
      "UNH-01_R132_07_09_2017_08_50_14_Decimate_All.p saved\n",
      "UNH-01_R132_07_10_2017_08_50_11_Decimate_All.p saved\n",
      "UNH-01_R132_07_11_2017_08_50_09_Decimate_All.p saved\n",
      "UNH-01_R132_07_12_2017_08_50_07_Decimate_All.p saved\n",
      "UNH-01_R133_07_12_2017_17_05_04_Decimate_All.p saved\n",
      "DONE\n"
     ]
    }
   ],
   "source": [
    "print('Total number of tdms files: {}'.format(len(tdms_dir)))\n",
    "\n",
    "# Need to fix this\n",
    "for path in tdms_dir:\n",
    "    importTdms.to_pd(path)\n",
    "    \n",
    "print('DONE')"
   ]
  }
 ],
 "metadata": {
  "kernelspec": {
   "display_name": "Python [conda root]",
   "language": "python",
   "name": "conda-root-py"
  },
  "language_info": {
   "codemirror_mode": {
    "name": "ipython",
    "version": 3
   },
   "file_extension": ".py",
   "mimetype": "text/x-python",
   "name": "python",
   "nbconvert_exporter": "python",
   "pygments_lexer": "ipython3",
   "version": "3.5.3"
  }
 },
 "nbformat": 4,
 "nbformat_minor": 2
}
